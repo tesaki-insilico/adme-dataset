{
 "cells": [
  {
   "cell_type": "markdown",
   "id": "f71ae8b0",
   "metadata": {},
   "source": [
    "# Regression Models for Fa Prediction using Descriptors Calculated with Mordred"
   ]
  },
  {
   "cell_type": "markdown",
   "id": "f4a8992e",
   "metadata": {},
   "source": [
    "## Materials and Method\n",
    "\n",
    "- Libraries: NumPy, pandas, scikit-learn, matplotlib, RDKit, mordred and SHAP\n",
    "- Dataset: Fraction of absorption (Fa) and Parmeability measured by Caco-2 cells (Papp), which were collected previous strudy (Esaki, et al., Journal of Phermeceutical Sciences, 2019)\n",
    "- Descriptor calcularion: Mordred"
   ]
  },
  {
   "cell_type": "markdown",
   "id": "bbcb316c",
   "metadata": {},
   "source": [
    "### Library import"
   ]
  },
  {
   "cell_type": "code",
   "execution_count": null,
   "id": "4938689a",
   "metadata": {},
   "outputs": [],
   "source": [
    "import numpy as np\n",
    "print('numpy version: ', np.__version__)\n",
    "\n",
    "from rdkit import Chem, rdBase\n",
    "print('rdkit version: ', rdBase.rdkitVersion)"
   ]
  },
  {
   "cell_type": "markdown",
   "id": "9d6d03d9",
   "metadata": {},
   "source": [
    "### Datasets\n",
    "\n",
    "The dataset contained information on the chemical structure of 5567 compounds as SMILES strings. In this dataset, the number of Fa and Papp experimental values were 946 and 4460, respectively. Owing to its accuracy, we used CORINA (ver. 4.4.0) to generate 3D structures of the chemical compounds as structure data format (SDF)."
   ]
  },
  {
   "cell_type": "code",
   "execution_count": null,
   "id": "e3d3a19f",
   "metadata": {},
   "outputs": [],
   "source": [
    "sdf = 'corina_result_all_SI_JPS_largestMWFragment_LowestEnergyConformation.sdf'\n",
    "\n",
    "suppl = Chem.SDMolSupplier(sdf, removeHs=False)\n",
    "mols = [mol for mol in suppl if mol is not None]\n",
    "print(len(mols))"
   ]
  },
  {
   "cell_type": "markdown",
   "id": "1c1dcf90",
   "metadata": {},
   "source": [
    "Checking the contents of mols objects"
   ]
  },
  {
   "cell_type": "code",
   "execution_count": null,
   "id": "04cde6b4",
   "metadata": {},
   "outputs": [],
   "source": [
    "mols[0].GetPropsAsDict()"
   ]
  },
  {
   "cell_type": "markdown",
   "id": "fc42d1c9",
   "metadata": {},
   "source": [
    "Preparing sdf information as lists"
   ]
  },
  {
   "cell_type": "code",
   "execution_count": null,
   "id": "456803b7",
   "metadata": {
    "scrolled": true
   },
   "outputs": [],
   "source": [
    "chemblids = [mol.GetPropsAsDict()['chembl_id'] for mol in mols]\n",
    "Fas = [mol.GetPropsAsDict()['Fa'] for mol in mols]\n",
    "Papps = [mol.GetPropsAsDict()['Papp'] for mol in mols]\n",
    "\n",
    "print(len(chemblids), len(Fas), len(Papps))"
   ]
  },
  {
   "cell_type": "markdown",
   "id": "7436e75b",
   "metadata": {},
   "source": [
    "### Descriptor calculation"
   ]
  },
  {
   "cell_type": "markdown",
   "id": "ff491d44",
   "metadata": {},
   "source": [
    "#### Install and import of Mordred\n",
    "\n",
    "Mordred is a descriptor calculation tool rapped RDKit in Python. Mordred had developed to aim improve PaDEL-Descriptor.\n",
    "\n",
    "> Moriwaki H, Tian Y-S, Kawashita N, Takagi T (2018) Mordred: a molecular descriptor calculator. Journal of Cheminformatics 10:4 . doi: 10.1186/s13321-018-0258-y\n",
    "\n",
    "Number of cacularatable descrpiptors are as follows:\n",
    "- 1D, 2D: 1613 \n",
    "- 3D: 213\n",
    "\n",
    "For instration of Mordred in Anaconda prompts `conda install -c rdkit -c mordred-descriptor mordred`"
   ]
  },
  {
   "cell_type": "code",
   "execution_count": null,
   "id": "1784941a",
   "metadata": {
    "scrolled": true
   },
   "outputs": [],
   "source": [
    "import mordred\n",
    "print(f'mordred version: {mordred.__version__}')\n",
    "\n",
    "from mordred import Calculator, descriptors"
   ]
  },
  {
   "cell_type": "markdown",
   "id": "e50e03fc",
   "metadata": {},
   "source": [
    "Calculator() is used to provide information for descriptor caculation（option, 1D2D: ignore_3D=True, 3D: ingnore_3D=False）"
   ]
  },
  {
   "cell_type": "markdown",
   "id": "512860cc",
   "metadata": {},
   "source": [
    "#### Calculation of 1D2D descriptors"
   ]
  },
  {
   "cell_type": "code",
   "execution_count": null,
   "id": "fa1cc3e5",
   "metadata": {
    "scrolled": true
   },
   "outputs": [],
   "source": [
    "calc2d = Calculator(descriptors, ignore_3D=True)\n",
    "print('Number of 1D2D descriptor: ', len(calc2d))\n",
    "\n",
    "df_2D_mordred = calc2d.pandas(mols)\n",
    "df_2D_mordred.head(5)"
   ]
  },
  {
   "cell_type": "markdown",
   "id": "9a22874e",
   "metadata": {},
   "source": [
    "Transform error messages generated in descriptor calculation into NaN"
   ]
  },
  {
   "cell_type": "code",
   "execution_count": null,
   "id": "e3814d49",
   "metadata": {
    "scrolled": true
   },
   "outputs": [],
   "source": [
    "df_2Ddescriptors = df_2D_mordred.astype(str)\n",
    "masks_2D = df_2Ddescriptors.apply(lambda d: d.str.contains('[a-zA-Z]' ,na=False))\n",
    "df_2Ddescriptors = df_2Ddescriptors[~masks_2D]\n",
    "df_2Ddescriptors = df_2Ddescriptors.astype(float)\n",
    "\n",
    "df_2Ddescriptors.head(5)"
   ]
  },
  {
   "cell_type": "markdown",
   "id": "c33ba428",
   "metadata": {},
   "source": [
    "Merging descriptors and labels"
   ]
  },
  {
   "cell_type": "code",
   "execution_count": null,
   "id": "b5de67fb",
   "metadata": {
    "scrolled": true
   },
   "outputs": [],
   "source": [
    "df_2Ddescriptors.insert(0, 'ChEMBL_ID', chemblids)\n",
    "df_2Ddescriptors.insert(1, 'Fa', Fas)\n",
    "df_2Ddescriptors.insert(2, 'Papp', Papps)\n",
    "\n",
    "df_2Ddescriptors = df_2Ddescriptors.replace('.', np.nan)\n",
    "df_2Ddescriptors.head(5)"
   ]
  },
  {
   "cell_type": "markdown",
   "id": "978a6049",
   "metadata": {},
   "source": [
    "Export as csv file"
   ]
  },
  {
   "cell_type": "code",
   "execution_count": null,
   "id": "404b0712",
   "metadata": {},
   "outputs": [],
   "source": [
    "df_2Ddescriptors.to_csv(sdf.split('.')[0] + '_mordred_1D2D.csv')"
   ]
  },
  {
   "cell_type": "markdown",
   "id": "20f47d24",
   "metadata": {},
   "source": [
    "#### Calculation of 1D2D3D descriptors"
   ]
  },
  {
   "cell_type": "code",
   "execution_count": null,
   "id": "9dcffa9b",
   "metadata": {
    "scrolled": true
   },
   "outputs": [],
   "source": [
    "calc3d = Calculator(descriptors, ignore_3D=False)\n",
    "print('Number of 1D2D3D descriptor: ', len(calc3d))\n",
    "\n",
    "df_3D_mordred = calc3d.pandas(mols)\n",
    "df_3D_mordred.head(5)"
   ]
  },
  {
   "cell_type": "markdown",
   "id": "199cb421",
   "metadata": {},
   "source": [
    "Transform error messages generated in descriptor calculation into NaN"
   ]
  },
  {
   "cell_type": "code",
   "execution_count": null,
   "id": "27fce778",
   "metadata": {
    "scrolled": true
   },
   "outputs": [],
   "source": [
    "df_3Ddescriptors = df_3D_mordred.astype(str)\n",
    "masks_3D = df_3Ddescriptors.apply(lambda d: d.str.contains('[a-zA-Z]' ,na=False))\n",
    "df_3Ddescriptors = df_3Ddescriptors[~masks_3D]\n",
    "df_3Ddescriptors = df_3Ddescriptors.astype(float)\n",
    "\n",
    "df_3Ddescriptors.head(5)"
   ]
  },
  {
   "cell_type": "markdown",
   "id": "e1d8cb44",
   "metadata": {},
   "source": [
    "Merging descriptors and labels"
   ]
  },
  {
   "cell_type": "code",
   "execution_count": null,
   "id": "c6332551",
   "metadata": {
    "scrolled": true
   },
   "outputs": [],
   "source": [
    "df_3Ddescriptors.insert(0, 'ChEMBL_ID', chemblids)\n",
    "df_3Ddescriptors.insert(1, 'Fa', Fas)\n",
    "df_3Ddescriptors.insert(2, 'Papp', Papps)\n",
    "\n",
    "df_3Ddescriptors = df_3Ddescriptors.replace('.', np.nan)\n",
    "df_3Ddescriptors.head(5)"
   ]
  },
  {
   "cell_type": "markdown",
   "id": "3aa7cf4c",
   "metadata": {},
   "source": [
    "Export as csv file"
   ]
  },
  {
   "cell_type": "code",
   "execution_count": null,
   "id": "e70b60b4",
   "metadata": {},
   "outputs": [],
   "source": [
    "df_3Ddescriptors.to_csv(sdf.split('.')[0] + '_mordred_1D2D3D.csv')"
   ]
  },
  {
   "cell_type": "markdown",
   "id": "7378aaf3",
   "metadata": {},
   "source": [
    "## References\n",
    "\n",
    "- J-Stage: https://www.jstage.jst.go.jp/article/ciqs/2016/0/2016_Y4/_pdf/-char/ja\n",
    "- github: https://github.com/mordred-descriptor/mordred\n",
    "- kiseno-log: https://kiseno-log.com/2019/11/07/mordred%E3%81%A7%E8%A8%98%E8%BF%B0%E5%AD%90%E3%82%92%E8%A8%88%E7%AE%97%E3%81%97%E3%81%A6pandas%E5%BD%A2%E5%BC%8F%E3%81%A7%E5%87%BA%E5%8A%9B%E3%81%99%E3%82%8B/"
   ]
  }
 ],
 "metadata": {
  "kernelspec": {
   "display_name": "Python 3 (ipykernel)",
   "language": "python",
   "name": "python3"
  },
  "language_info": {
   "codemirror_mode": {
    "name": "ipython",
    "version": 3
   },
   "file_extension": ".py",
   "mimetype": "text/x-python",
   "name": "python",
   "nbconvert_exporter": "python",
   "pygments_lexer": "ipython3",
   "version": "3.9.7"
  }
 },
 "nbformat": 4,
 "nbformat_minor": 5
}
